{
 "cells": [
  {
   "cell_type": "code",
   "execution_count": 1,
   "metadata": {},
   "outputs": [],
   "source": [
    "from faker import Faker\n",
    "import csv\n",
    "\n",
    "fake = Faker()\n",
    "output = open('customer.csv', 'w')\n",
    "header = ['customer_id', 'first_name', 'last_name', 'email', 'phone_number', 'address']\n",
    "mywriter = csv.writer(output)\n",
    "mywriter.writerow(header)\n",
    "\n",
    "for r in range(1000):\n",
    "    mywriter.writerow([r + 1, fake.first_name(), fake.last_name(), fake.email(), fake.phone_number(), fake.address()])\n",
    "output.close()    \n",
    "\n",
    "\n",
    "\n",
    "\n",
    "\n",
    "\n",
    "\n",
    "\n"
   ]
  }
 ],
 "metadata": {
  "kernelspec": {
   "display_name": "Python 3",
   "language": "python",
   "name": "python3"
  },
  "language_info": {
   "codemirror_mode": {
    "name": "ipython",
    "version": 3
   },
   "file_extension": ".py",
   "mimetype": "text/x-python",
   "name": "python",
   "nbconvert_exporter": "python",
   "pygments_lexer": "ipython3",
   "version": "3.12.4"
  }
 },
 "nbformat": 4,
 "nbformat_minor": 2
}
