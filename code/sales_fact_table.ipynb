{
 "cells": [
  {
   "cell_type": "code",
   "execution_count": 1,
   "metadata": {},
   "outputs": [],
   "source": [
    "from faker import Faker\n",
    "import csv\n",
    "import random\n",
    "\n",
    "fake = Faker()\n",
    "output = open('sales.csv', 'w')\n",
    "header = ['sale_id', 'product_id', 'customer_id', 'store_id', 'date_id', 'quantity_sold', 'total_amount']\n",
    "mywriter = csv.writer(output)\n",
    "mywriter.writerow(header)\n",
    "\n",
    "for r in range(10000):\n",
    "    product_id = random.randint(1, 1000)\n",
    "    customer_id = random.randint(1, 1000)\n",
    "    store_id = random.randint(1, 100)\n",
    "    date_id = random.randint(1, 365)\n",
    "    quantity_sold = random.randint(1, 10)\n",
    "    total_amount = round(quantity_sold * random.uniform(5.0, 500.0), 2)\n",
    "    mywriter.writerow([r + 1, product_id, customer_id, store_id, date_id, quantity_sold, total_amount])\n",
    "output.close()\n"
   ]
  }
 ],
 "metadata": {
  "kernelspec": {
   "display_name": "Python 3",
   "language": "python",
   "name": "python3"
  },
  "language_info": {
   "codemirror_mode": {
    "name": "ipython",
    "version": 3
   },
   "file_extension": ".py",
   "mimetype": "text/x-python",
   "name": "python",
   "nbconvert_exporter": "python",
   "pygments_lexer": "ipython3",
   "version": "3.12.4"
  }
 },
 "nbformat": 4,
 "nbformat_minor": 2
}
