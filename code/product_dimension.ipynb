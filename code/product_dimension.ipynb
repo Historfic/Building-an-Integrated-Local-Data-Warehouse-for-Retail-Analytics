{
 "cells": [
  {
   "cell_type": "code",
   "execution_count": 1,
   "metadata": {},
   "outputs": [],
   "source": [
    "import csv\n",
    "import random\n",
    "\n",
    "products = [\n",
    "    (\"SolarZap Charger\", \"Electronics\", 89.99),\n",
    "    (\"EverBloom Mini Greenhouse\", \"Home & Garden\", 29.95),\n",
    "    (\"FlexStep GO Fitness Tracker\", \"Sports & Outdoors\", 99.50),\n",
    "    (\"AquaShield Lite Rain Jacket\", \"Clothing & Accessories\", 79.00),\n",
    "    (\"DreamWeaver Sleep Mask\", \"Beauty & Health\", 34.75),\n",
    "    (\"TrailMixX Snack Pack\", \"Food & Beverage\", 14.99),\n",
    "    (\"FuzzyFriend Plushie\", \"Toys & Games\", 24.50),\n",
    "    (\"LeashLock Basic Set\", \"Pet Supplies\", 29.99),\n",
    "    (\"EcoClip Binder Duo\", \"Office Supplies\", 39.50),\n",
    "    (\"ArtyBrush Acrylic Set\", \"Arts & Crafts\", 59.95),\n",
    "    (\"Soundwave Earbuds\", \"Electronics\", 149.00),\n",
    "    (\"BloomTech Smart Pot\", \"Home & Garden\", 199.99),\n",
    "    (\"Velocity Lite Helmet\", \"Sports & Outdoors\", 99.00),\n",
    "    (\"CashmereLuxe Scarf\", \"Clothing & Accessories\", 149.50),\n",
    "    (\"SonicSmile Pro Brush\", \"Beauty & Health\", 129.95)\n",
    "]\n",
    "\n",
    "output = open('product.csv', 'w')\n",
    "header = ['product_id', 'product_name', 'category', 'price']\n",
    "mywriter = csv.writer(output)\n",
    "mywriter.writerow(header)\n",
    "\n",
    "for product_id in range(1, 1001):\n",
    "    product = random.choice(products)\n",
    "    mywriter.writerow([product_id, product[0], product[1], product[2]])\n",
    "\n",
    "output.close()\n"
   ]
  },
  {
   "cell_type": "markdown",
   "metadata": {},
   "source": []
  }
 ],
 "metadata": {
  "kernelspec": {
   "display_name": "Python 3",
   "language": "python",
   "name": "python3"
  },
  "language_info": {
   "codemirror_mode": {
    "name": "ipython",
    "version": 3
   },
   "file_extension": ".py",
   "mimetype": "text/x-python",
   "name": "python",
   "nbconvert_exporter": "python",
   "pygments_lexer": "ipython3",
   "version": "3.12.4"
  }
 },
 "nbformat": 4,
 "nbformat_minor": 2
}
