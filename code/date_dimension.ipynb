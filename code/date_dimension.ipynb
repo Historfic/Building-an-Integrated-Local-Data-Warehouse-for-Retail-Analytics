{
 "cells": [
  {
   "cell_type": "code",
   "execution_count": 2,
   "metadata": {},
   "outputs": [],
   "source": [
    "import csv\n",
    "from datetime import datetime, timedelta\n",
    "\n",
    "# Function to determine if a date is a weekend\n",
    "def is_weekend(date):\n",
    "    return date.weekday() >= 5\n",
    "\n",
    "# Create the CSV file\n",
    "with open('date.csv', mode='w', newline='') as file:\n",
    "    writer = csv.writer(file)\n",
    "    writer.writerow(['order_date', 'day', 'month', 'year', 'quarter', 'week', 'day_name', 'month_name', 'is_weekend'])\n",
    "    \n",
    "    start_date = datetime(2023, 1, 1)\n",
    "    end_date = datetime(2023, 12, 31)\n",
    "    current_date = start_date\n",
    "    \n",
    "    while current_date <= end_date:\n",
    "        order_date = current_date\n",
    "        day = current_date.day\n",
    "        month = current_date.month\n",
    "        year = current_date.year\n",
    "        quarter = (current_date.month - 1) // 3 + 1\n",
    "        week = current_date.isocalendar()[1]\n",
    "        day_name = current_date.strftime('%A')\n",
    "        month_name = current_date.strftime('%B')\n",
    "        weekend = is_weekend(current_date)\n",
    "        \n",
    "        writer.writerow([order_date, day, month, year, quarter, week, day_name, month_name, weekend])\n",
    "        \n",
    "        current_date += timedelta(days=1)\n"
   ]
  }
 ],
 "metadata": {
  "kernelspec": {
   "display_name": "Python 3",
   "language": "python",
   "name": "python3"
  },
  "language_info": {
   "codemirror_mode": {
    "name": "ipython",
    "version": 3
   },
   "file_extension": ".py",
   "mimetype": "text/x-python",
   "name": "python",
   "nbconvert_exporter": "python",
   "pygments_lexer": "ipython3",
   "version": "3.12.4"
  }
 },
 "nbformat": 4,
 "nbformat_minor": 2
}
