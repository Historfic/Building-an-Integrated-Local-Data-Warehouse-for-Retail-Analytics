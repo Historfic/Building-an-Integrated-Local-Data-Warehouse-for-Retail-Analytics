{
 "cells": [
  {
   "cell_type": "code",
   "execution_count": 1,
   "metadata": {},
   "outputs": [],
   "source": [
    "from faker import Faker\n",
    "import random\n",
    "import csv\n",
    "\n",
    "fake = Faker()\n",
    "output = open('store.csv', 'w')\n",
    "\n",
    "store_names = [\n",
    "    \"Verdant & Co.\",\n",
    "    \"trouvaille\",\n",
    "    \"The Curated Collective\",\n",
    "    \"Brightside Goods\",\n",
    "    \"Crafted Haven\",\n",
    "    \"Wren & Sparrow\",\n",
    "    \"The Maker's Guild\",\n",
    "    \"ARC\",\n",
    "    \"The Wandering Collective\",\n",
    "    \"Stoke & Ember\",\n",
    "    \"Wilder & Co.\",\n",
    "    \"Figment\"\n",
    "]\n",
    "\n",
    "\n",
    "\n",
    "\n",
    "header = ['store_id', 'store_name', 'location']\n",
    "mywriter = csv.writer(output)\n",
    "mywriter.writerow(header)\n",
    "\n",
    "for r in range(100):\n",
    "    store_name = random.choices(store_names)\n",
    "    mywriter.writerow([r + 1, store_name, fake.city()])\n",
    "\n",
    "output.close()\n"
   ]
  }
 ],
 "metadata": {
  "kernelspec": {
   "display_name": "Python 3",
   "language": "python",
   "name": "python3"
  },
  "language_info": {
   "codemirror_mode": {
    "name": "ipython",
    "version": 3
   },
   "file_extension": ".py",
   "mimetype": "text/x-python",
   "name": "python",
   "nbconvert_exporter": "python",
   "pygments_lexer": "ipython3",
   "version": "3.12.4"
  }
 },
 "nbformat": 4,
 "nbformat_minor": 2
}
