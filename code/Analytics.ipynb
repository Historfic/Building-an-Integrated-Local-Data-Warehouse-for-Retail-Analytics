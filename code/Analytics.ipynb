{
 "cells": [
  {
   "cell_type": "code",
   "execution_count": 15,
   "metadata": {},
   "outputs": [],
   "source": [
    "import pandas as pd\n",
    "\n",
    "\n",
    "df = pd.read_csv('customer.csv')\n",
    "\n",
    "\n",
    "df.dropna(inplace=True)\n",
    "df['customer_id'] = df['customer_id'].astype(int)\n",
    "df['first_name'] = df['first_name'].astype(str)\n",
    "df['last_name'] = df['last_name'].astype(str)\n",
    "df['email'] = df['email'].astype(str)\n",
    "\n",
    "df['phone_number'] = df['phone_number'].str.replace(r'\\D', '', regex=True)\n",
    "df['phone_number'] = df['phone_number'].astype(str)\n",
    "\n",
    "df['address'] = df['address'].astype(str)\n",
    "df.head()\n",
    "\n",
    "df.to_csv('customer.csv', index=False)\n",
    "\n"
   ]
  },
  {
   "cell_type": "code",
   "execution_count": 18,
   "metadata": {},
   "outputs": [],
   "source": [
    "sales_df = pd.read_csv('sales.csv')\n",
    "\n",
    "sales_df.dropna(inplace=True)\n",
    "\n",
    "sales_df.head()\n",
    "sales_df.to_csv('sales.csv', index=False)"
   ]
  }
 ],
 "metadata": {
  "kernelspec": {
   "display_name": "Python 3",
   "language": "python",
   "name": "python3"
  },
  "language_info": {
   "codemirror_mode": {
    "name": "ipython",
    "version": 3
   },
   "file_extension": ".py",
   "mimetype": "text/x-python",
   "name": "python",
   "nbconvert_exporter": "python",
   "pygments_lexer": "ipython3",
   "version": "3.12.4"
  }
 },
 "nbformat": 4,
 "nbformat_minor": 2
}
